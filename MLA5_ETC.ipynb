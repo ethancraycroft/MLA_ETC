{
  "nbformat": 4,
  "nbformat_minor": 0,
  "metadata": {
    "colab": {
      "name": "MLA5_ETC.ipynb",
      "provenance": [],
      "authorship_tag": "ABX9TyM0AbU6QYL0BALOtivjxnQX",
      "include_colab_link": true
    },
    "kernelspec": {
      "name": "python3",
      "display_name": "Python 3"
    },
    "language_info": {
      "name": "python"
    }
  },
  "cells": [
    {
      "cell_type": "markdown",
      "metadata": {
        "id": "view-in-github",
        "colab_type": "text"
      },
      "source": [
        "<a href=\"https://colab.research.google.com/github/ethancraycroft/MLA_ETC/blob/main/MLA5_ETC.ipynb\" target=\"_parent\"><img src=\"https://colab.research.google.com/assets/colab-badge.svg\" alt=\"Open In Colab\"/></a>"
      ]
    },
    {
      "cell_type": "markdown",
      "source": [
        "#**Machine Learning Assignment 5**\n",
        "#**ETHAN CRAYCROFT**\n",
        "#**CS430-ON**\n",
        "#**Machine Learning in the Cloud**"
      ],
      "metadata": {
        "id": "YzYMVGxg582W"
      }
    },
    {
      "cell_type": "code",
      "execution_count": 80,
      "metadata": {
        "id": "A6lzI15Y5rXw"
      },
      "outputs": [],
      "source": [
        "import pandas as pd\n",
        "import numpy as np\n",
        "import matplotlib.pyplot as plt\n",
        "import seaborn as sns\n",
        "%matplotlib inline"
      ]
    },
    {
      "cell_type": "code",
      "source": [
        "from google.colab import drive\n",
        "drive.mount('/content/gdrive')"
      ],
      "metadata": {
        "colab": {
          "base_uri": "https://localhost:8080/"
        },
        "id": "dg9Q9588CB_1",
        "outputId": "eb1d4dd1-e1ea-40de-8909-718f5e321a2d"
      },
      "execution_count": 81,
      "outputs": [
        {
          "output_type": "stream",
          "name": "stdout",
          "text": [
            "Drive already mounted at /content/gdrive; to attempt to forcibly remount, call drive.mount(\"/content/gdrive\", force_remount=True).\n"
          ]
        }
      ]
    },
    {
      "cell_type": "code",
      "source": [
        "from sklearn.ensemble import VotingClassifier\n",
        "from sklearn.ensemble import BaggingClassifier\n",
        "from sklearn.ensemble import RandomForestClassifier\n",
        "from sklearn.ensemble import AdaBoostClassifier"
      ],
      "metadata": {
        "id": "tbANAlUmCDpi"
      },
      "execution_count": 82,
      "outputs": []
    },
    {
      "cell_type": "code",
      "source": [
        "from sklearn.neighbors import KNeighborsClassifier\n",
        "from sklearn.linear_model import LogisticRegression\n",
        "from sklearn.svm import SVC\n",
        "from sklearn.tree import DecisionTreeClassifier"
      ],
      "metadata": {
        "id": "uji5Byi4CN3s"
      },
      "execution_count": 83,
      "outputs": []
    },
    {
      "cell_type": "code",
      "source": [
        "from sklearn.model_selection import train_test_split\n",
        "\n",
        "from sklearn.pipeline import Pipeline\n",
        "from sklearn.compose import ColumnTransformer\n",
        "from sklearn.preprocessing import MinMaxScaler\n",
        "from sklearn.preprocessing import OneHotEncoder"
      ],
      "metadata": {
        "id": "pAHcJN3eCPie"
      },
      "execution_count": 84,
      "outputs": []
    },
    {
      "cell_type": "code",
      "source": [
        "from sklearn import set_config\n",
        "set_config(display='diagram')"
      ],
      "metadata": {
        "id": "_Ze1sBqjCSJa"
      },
      "execution_count": 85,
      "outputs": []
    },
    {
      "cell_type": "code",
      "source": [
        "from sklearn.metrics import confusion_matrix\n",
        "from sklearn.metrics import precision_score, recall_score, f1_score\n",
        "from sklearn.metrics import mean_squared_error\n",
        "from sklearn.metrics import classification_report\n",
        "from sklearn.metrics import ConfusionMatrixDisplay"
      ],
      "metadata": {
        "id": "A8xXf4-0CUa-"
      },
      "execution_count": 86,
      "outputs": []
    },
    {
      "cell_type": "markdown",
      "source": [
        "#*Problem 1*"
      ],
      "metadata": {
        "id": "qKASNJDjVZXP"
      }
    },
    {
      "cell_type": "markdown",
      "source": [
        "#Load the landsat_train.csv into a data frame named landsat_train and the landsat_test.csv into a dataframe named landsat_test.\n"
      ],
      "metadata": {
        "id": "5GeRn7O0Gfu9"
      }
    },
    {
      "cell_type": "code",
      "source": [
        "landsat_train = pd.read_csv('/content/gdrive/MyDrive/CS430/landsat_train.csv')\n",
        "landsat_test = pd.read_csv('/content/gdrive/MyDrive/CS430/landsat_test.csv')"
      ],
      "metadata": {
        "id": "ck3LalEwCnXu"
      },
      "execution_count": 87,
      "outputs": []
    },
    {
      "cell_type": "markdown",
      "source": [
        "#Create bar plots to display the number of land types for landsat_train and landsat_test (two different plots).\n"
      ],
      "metadata": {
        "id": "8zbCcb-ZGh5w"
      }
    },
    {
      "cell_type": "code",
      "source": [
        "land_types_train = landsat_train.land_type.groupby(landsat_train.land_type).count()\n"
      ],
      "metadata": {
        "id": "NiOON6RiE3RB"
      },
      "execution_count": 88,
      "outputs": []
    },
    {
      "cell_type": "code",
      "source": [
        ""
      ],
      "metadata": {
        "id": "FMg8Ho4-jVcC"
      },
      "execution_count": 88,
      "outputs": []
    },
    {
      "cell_type": "code",
      "source": [
        "land_types_train.plot(kind='bar', title=\"Land Types (Train)\", figsize=(10, 5))"
      ],
      "metadata": {
        "colab": {
          "base_uri": "https://localhost:8080/",
          "height": 364
        },
        "id": "R49KJ2eEDTS3",
        "outputId": "2c3101be-da98-461f-e5e3-046007f40ba1"
      },
      "execution_count": 89,
      "outputs": [
        {
          "output_type": "execute_result",
          "data": {
            "text/plain": [
              "<matplotlib.axes._subplots.AxesSubplot at 0x7fe89cddfc90>"
            ]
          },
          "metadata": {},
          "execution_count": 89
        },
        {
          "output_type": "display_data",
          "data": {
            "text/plain": [
              "<Figure size 720x360 with 1 Axes>"
            ],
            "image/png": "[encoded data removed]"
          },
          "metadata": {
            "needs_background": "light"
          }
        }
      ]
    },
    {
      "cell_type": "code",
      "source": [
        "land_types_test = landsat_test.land_type.groupby(landsat_test.land_type).count()\n"
      ],
      "metadata": {
        "id": "LTYdOKVaGR-f"
      },
      "execution_count": 90,
      "outputs": []
    },
    {
      "cell_type": "code",
      "source": [
        "land_types_test.plot(kind='bar', title=\"Land Types (Test)\", figsize=(10, 5))"
      ],
      "metadata": {
        "colab": {
          "base_uri": "https://localhost:8080/",
          "height": 364
        },
        "id": "5Rdu-dT0GSb6",
        "outputId": "8db8267c-a40b-4a90-a713-228d8c5b999f"
      },
      "execution_count": 91,
      "outputs": [
        {
          "output_type": "execute_result",
          "data": {
            "text/plain": [
              "<matplotlib.axes._subplots.AxesSubplot at 0x7fe89cd9b110>"
            ]
          },
          "metadata": {},
          "execution_count": 91
        },
        {
          "output_type": "display_data",
          "data": {
            "text/plain": [
              "<Figure size 720x360 with 1 Axes>"
            ],
            "image/png": "[encoded data removed]"
          },
          "metadata": {
            "needs_background": "light"
          }
        }
      ]
    },
    {
      "cell_type": "markdown",
      "source": [
        "#Create a data frame called X_train with all columns from landsat_train except for land_type.\n"
      ],
      "metadata": {
        "id": "h9VBQDQWGwYD"
      }
    },
    {
      "cell_type": "code",
      "source": [
        "X_train = landsat_train.iloc[:,0:-1]"
      ],
      "metadata": {
        "id": "4VRg2v0BGqiX"
      },
      "execution_count": 92,
      "outputs": []
    },
    {
      "cell_type": "markdown",
      "source": [
        "#Create a data frame called X_test with all columns from landsat_test except for land_type.\n"
      ],
      "metadata": {
        "id": "Dq-kuK-GGxcC"
      }
    },
    {
      "cell_type": "code",
      "source": [
        "X_test = landsat_test.iloc[:,0:-1]"
      ],
      "metadata": {
        "id": "Ky2xKb7RGzp8"
      },
      "execution_count": 93,
      "outputs": []
    },
    {
      "cell_type": "markdown",
      "source": [
        "#Create a data frame called y_train with the land_type column from landsat_train.\n"
      ],
      "metadata": {
        "id": "rL4gFUlHG7ak"
      }
    },
    {
      "cell_type": "code",
      "source": [
        "y_train = landsat_train[['land_type']]"
      ],
      "metadata": {
        "id": "h9s_Xd1cG8Qw"
      },
      "execution_count": 94,
      "outputs": []
    },
    {
      "cell_type": "markdown",
      "source": [
        "#Create a data frame called y_test with the land_type column from landsat_test."
      ],
      "metadata": {
        "id": "lLzuEmlhHE1r"
      }
    },
    {
      "cell_type": "code",
      "source": [
        "y_test = landsat_test[['land_type']]"
      ],
      "metadata": {
        "id": "6KETV-p3HFNI"
      },
      "execution_count": 95,
      "outputs": []
    },
    {
      "cell_type": "markdown",
      "source": [
        "#Create a column transformer that will MinMax scale the numerical variables \n"
      ],
      "metadata": {
        "id": "527Ooil3Pfag"
      }
    },
    {
      "cell_type": "code",
      "source": [
        "num_attributes = ['top_left_r',\t'top_left_g',\t'top_left_infra1',\t'top_left_infra2',\t'top_middle_r',\t'top_middle_g',\t'top_middle_infra1',\t'top_middle_infra2',\t'top_right_r',\t'top_right_g',\t'top_right_infra1',\t'top_right_infra2',\t'middle_left_r',\t'middle_left_g',\t'middle_left_infra1',\t'middle_left_infra2',\t'central_pixel_r',\t'central_pixel_g',\t'central_pixel_infra1',\t'central_pixel_infra2',\t'middle_right_r',\t'middle_right_g',\t'middle_right_infra1',\t'middle_right_infra2',\t'bottom_left_r',\t'bottom_left_g',\t'bottom_left_infra1',\t'bottom_left_infra2',\t'bottom_middle_r',\t'bottom_middle_g',\t'bottom_middle_infra1',\t'bottom_middle_infra2',\t'bottom_right_r',\t'bottom_right_g',\t'bottom_right_infra1',\t'bottom_right_infra2']\n",
        "col_transform = ColumnTransformer(transformers=[\n",
        "                               ('num',MinMaxScaler(),num_attributes),]\n",
        "                  )"
      ],
      "metadata": {
        "id": "eUMfOFm3NILj"
      },
      "execution_count": 96,
      "outputs": []
    },
    {
      "cell_type": "markdown",
      "source": [
        "#Create a pipeline that will transform the data and then run the RandomForestClassifier algorithm.\n"
      ],
      "metadata": {
        "id": "O95_HgrFQ37Y"
      }
    },
    {
      "cell_type": "code",
      "source": [
        "random_forest = Pipeline([\n",
        "                     ('transform', col_transform),\n",
        "                     ('rf',RandomForestClassifier(n_estimators=1000, max_samples=4000, bootstrap=True, n_jobs=-1))\n",
        "                     ])"
      ],
      "metadata": {
        "id": "OyjlE4XJPpXv"
      },
      "execution_count": 97,
      "outputs": []
    },
    {
      "cell_type": "markdown",
      "source": [
        "#Run the pipeline to fit the RandomForestClassification model."
      ],
      "metadata": {
        "id": "FVKwFhsPQ6Gg"
      }
    },
    {
      "cell_type": "code",
      "source": [
        "random_forest.fit(X_train,np.ravel(y_train))\n"
      ],
      "metadata": {
        "colab": {
          "base_uri": "https://localhost:8080/",
          "height": 188
        },
        "id": "USuztt_FPrp2",
        "outputId": "bdd97c17-c3e7-4cd0-89b5-4656e9b24c30"
      },
      "execution_count": 98,
      "outputs": [
        {
          "output_type": "execute_result",
          "data": {
            "text/plain": [
              "Pipeline(steps=[('transform',\n",
              "                 ColumnTransformer(transformers=[('num', MinMaxScaler(),\n",
              "                                                  ['top_left_r', 'top_left_g',\n",
              "                                                   'top_left_infra1',\n",
              "                                                   'top_left_infra2',\n",
              "                                                   'top_middle_r',\n",
              "                                                   'top_middle_g',\n",
              "                                                   'top_middle_infra1',\n",
              "                                                   'top_middle_infra2',\n",
              "                                                   'top_right_r', 'top_right_g',\n",
              "                                                   'top_right_infra1',\n",
              "                                                   'top_right_infra2',\n",
              "                                                   'middle_left_r',\n",
              "                                                   'middle_left_g',\n",
              "                                                   'middle_left_infra1',\n",
              "                                                   'middle_left_in...\n",
              "                                                   'central_pixel_r',\n",
              "                                                   'central_pixel_g',\n",
              "                                                   'central_pixel_infra1',\n",
              "                                                   'central_pixel_infra2',\n",
              "                                                   'middle_right_r',\n",
              "                                                   'middle_right_g',\n",
              "                                                   'middle_right_infra1',\n",
              "                                                   'middle_right_infra2',\n",
              "                                                   'bottom_left_r',\n",
              "                                                   'bottom_left_g',\n",
              "                                                   'bottom_left_infra1',\n",
              "                                                   'bottom_left_infra2',\n",
              "                                                   'bottom_middle_r',\n",
              "                                                   'bottom_middle_g', ...])])),\n",
              "                ('rf',\n",
              "                 RandomForestClassifier(max_samples=4000, n_estimators=1000,\n",
              "                                        n_jobs=-1))])"
            ],
            "text/html": [
              "<style>#sk-133fd38c-5483-469d-8098-03239c902899 {color: black;background-color: white;}#sk-133fd38c-5483-469d-8098-03239c902899 pre{padding: 0;}#sk-133fd38c-5483-469d-8098-03239c902899 div.sk-toggleable {background-color: white;}#sk-133fd38c-5483-469d-8098-03239c902899 label.sk-toggleable__label {cursor: pointer;display: block;width: 100%;margin-bottom: 0;padding: 0.3em;box-sizing: border-box;text-align: center;}#sk-133fd38c-5483-469d-8098-03239c902899 label.sk-toggleable__label-arrow:before {content: \"▸\";float: left;margin-right: 0.25em;color: #696969;}#sk-133fd38c-5483-469d-8098-03239c902899 label.sk-toggleable__label-arrow:hover:before {color: black;}#sk-133fd38c-5483-469d-8098-03239c902899 div.sk-estimator:hover label.sk-toggleable__label-arrow:before {color: black;}#sk-133fd38c-5483-469d-8098-03239c902899 div.sk-toggleable__content {max-height: 0;max-width: 0;overflow: hidden;text-align: left;background-color: #f0f8ff;}#sk-133fd38c-5483-469d-8098-03239c902899 div.sk-toggleable__content pre {margin: 0.2em;color: black;border-radius: 0.25em;background-color: #f0f8ff;}#sk-133fd38c-5483-469d-8098-03239c902899 input.sk-toggleable__control:checked~div.sk-toggleable__content {max-height: 200px;max-width: 100%;overflow: auto;}#sk-133fd38c-5483-469d-8098-03239c902899 input.sk-toggleable__control:checked~label.sk-toggleable__label-arrow:before {content: \"▾\";}#sk-133fd38c-5483-469d-8098-03239c902899 div.sk-estimator input.sk-toggleable__control:checked~label.sk-toggleable__label {background-color: #d4ebff;}#sk-133fd38c-5483-469d-8098-03239c902899 div.sk-label input.sk-toggleable__control:checked~label.sk-toggleable__label {background-color: #d4ebff;}#sk-133fd38c-5483-469d-8098-03239c902899 input.sk-hidden--visually {border: 0;clip: rect(1px 1px 1px 1px);clip: rect(1px, 1px, 1px, 1px);height: 1px;margin: -1px;overflow: hidden;padding: 0;position: absolute;width: 1px;}#sk-133fd38c-5483-469d-8098-03239c902899 div.sk-estimator {font-family: monospace;background-color: #f0f8ff;border: 1px dotted black;border-radius: 0.25em;box-sizing: border-box;margin-bottom: 0.5em;}#sk-133fd38c-5483-469d-8098-03239c902899 div.sk-estimator:hover {background-color: #d4ebff;}#sk-133fd38c-5483-469d-8098-03239c902899 div.sk-parallel-item::after {content: \"\";width: 100%;border-bottom: 1px solid gray;flex-grow: 1;}#sk-133fd38c-5483-469d-8098-03239c902899 div.sk-label:hover label.sk-toggleable__label {background-color: #d4ebff;}#sk-133fd38c-5483-469d-8098-03239c902899 div.sk-serial::before {content: \"\";position: absolute;border-left: 1px solid gray;box-sizing: border-box;top: 2em;bottom: 0;left: 50%;}#sk-133fd38c-5483-469d-8098-03239c902899 div.sk-serial {display: flex;flex-direction: column;align-items: center;background-color: white;padding-right: 0.2em;padding-left: 0.2em;}#sk-133fd38c-5483-469d-8098-03239c902899 div.sk-item {z-index: 1;}#sk-133fd38c-5483-469d-8098-03239c902899 div.sk-parallel {display: flex;align-items: stretch;justify-content: center;background-color: white;}#sk-133fd38c-5483-469d-8098-03239c902899 div.sk-parallel::before {content: \"\";position: absolute;border-left: 1px solid gray;box-sizing: border-box;top: 2em;bottom: 0;left: 50%;}#sk-133fd38c-5483-469d-8098-03239c902899 div.sk-parallel-item {display: flex;flex-direction: column;position: relative;background-color: white;}#sk-133fd38c-5483-469d-8098-03239c902899 div.sk-parallel-item:first-child::after {align-self: flex-end;width: 50%;}#sk-133fd38c-5483-469d-8098-03239c902899 div.sk-parallel-item:last-child::after {align-self: flex-start;width: 50%;}#sk-133fd38c-5483-469d-8098-03239c902899 div.sk-parallel-item:only-child::after {width: 0;}#sk-133fd38c-5483-469d-8098-03239c902899 div.sk-dashed-wrapped {border: 1px dashed gray;margin: 0 0.4em 0.5em 0.4em;box-sizing: border-box;padding-bottom: 0.4em;background-color: white;position: relative;}#sk-133fd38c-5483-469d-8098-03239c902899 div.sk-label label {font-family: monospace;font-weight: bold;background-color: white;display: inline-block;line-height: 1.2em;}#sk-133fd38c-5483-469d-8098-03239c902899 div.sk-label-container {position: relative;z-index: 2;text-align: center;}#sk-133fd38c-5483-469d-8098-03239c902899 div.sk-container {/* jupyter's `normalize.less` sets `[hidden] { display: none; }` but bootstrap.min.css set `[hidden] { display: none !important; }` so we also need the `!important` here to be able to override the default hidden behavior on the sphinx rendered scikit-learn.org. See: https://github.com/scikit-learn/scikit-learn/issues/21755 */display: inline-block !important;position: relative;}#sk-133fd38c-5483-469d-8098-03239c902899 div.sk-text-repr-fallback {display: none;}</style><div id=\"sk-133fd38c-5483-469d-8098-03239c902899\" class=\"sk-top-container\"><div class=\"sk-text-repr-fallback\"><pre>Pipeline(steps=[(&#x27;transform&#x27;,\n",
              "                 ColumnTransformer(transformers=[(&#x27;num&#x27;, MinMaxScaler(),\n",
              "                                                  [&#x27;top_left_r&#x27;, &#x27;top_left_g&#x27;,\n",
              "                                                   &#x27;top_left_infra1&#x27;,\n",
              "                                                   &#x27;top_left_infra2&#x27;,\n",
              "                                                   &#x27;top_middle_r&#x27;,\n",
              "                                                   &#x27;top_middle_g&#x27;,\n",
              "                                                   &#x27;top_middle_infra1&#x27;,\n",
              "                                                   &#x27;top_middle_infra2&#x27;,\n",
              "                                                   &#x27;top_right_r&#x27;, &#x27;top_right_g&#x27;,\n",
              "                                                   &#x27;top_right_infra1&#x27;,\n",
              "                                                   &#x27;top_right_infra2&#x27;,\n",
              "                                                   &#x27;middle_left_r&#x27;,\n",
              "                                                   &#x27;middle_left_g&#x27;,\n",
              "                                                   &#x27;middle_left_infra1&#x27;,\n",
              "                                                   &#x27;middle_left_in...\n",
              "                                                   &#x27;central_pixel_r&#x27;,\n",
              "                                                   &#x27;central_pixel_g&#x27;,\n",
              "                                                   &#x27;central_pixel_infra1&#x27;,\n",
              "                                                   &#x27;central_pixel_infra2&#x27;,\n",
              "                                                   &#x27;middle_right_r&#x27;,\n",
              "                                                   &#x27;middle_right_g&#x27;,\n",
              "                                                   &#x27;middle_right_infra1&#x27;,\n",
              "                                                   &#x27;middle_right_infra2&#x27;,\n",
              "                                                   &#x27;bottom_left_r&#x27;,\n",
              "                                                   &#x27;bottom_left_g&#x27;,\n",
              "                                                   &#x27;bottom_left_infra1&#x27;,\n",
              "                                                   &#x27;bottom_left_infra2&#x27;,\n",
              "                                                   &#x27;bottom_middle_r&#x27;,\n",
              "                                                   &#x27;bottom_middle_g&#x27;, ...])])),\n",
              "                (&#x27;rf&#x27;,\n",
              "                 RandomForestClassifier(max_samples=4000, n_estimators=1000,\n",
              "                                        n_jobs=-1))])</pre><b>Please rerun this cell to show the HTML repr or trust the notebook.</b></div><div class=\"sk-container\" hidden><div class=\"sk-item sk-dashed-wrapped\"><div class=\"sk-label-container\"><div class=\"sk-label sk-toggleable\"><input class=\"sk-toggleable__control sk-hidden--visually\" id=\"62e83bb0-9cd1-4919-8018-3cb3a24ada3d\" type=\"checkbox\" ><label for=\"62e83bb0-9cd1-4919-8018-3cb3a24ada3d\" class=\"sk-toggleable__label sk-toggleable__label-arrow\">Pipeline</label><div class=\"sk-toggleable__content\"><pre>Pipeline(steps=[(&#x27;transform&#x27;,\n",
              "                 ColumnTransformer(transformers=[(&#x27;num&#x27;, MinMaxScaler(),\n",
              "                                                  [&#x27;top_left_r&#x27;, &#x27;top_left_g&#x27;,\n",
              "                                                   &#x27;top_left_infra1&#x27;,\n",
              "                                                   &#x27;top_left_infra2&#x27;,\n",
              "                                                   &#x27;top_middle_r&#x27;,\n",
              "                                                   &#x27;top_middle_g&#x27;,\n",
              "                                                   &#x27;top_middle_infra1&#x27;,\n",
              "                                                   &#x27;top_middle_infra2&#x27;,\n",
              "                                                   &#x27;top_right_r&#x27;, &#x27;top_right_g&#x27;,\n",
              "                                                   &#x27;top_right_infra1&#x27;,\n",
              "                                                   &#x27;top_right_infra2&#x27;,\n",
              "                                                   &#x27;middle_left_r&#x27;,\n",
              "                                                   &#x27;middle_left_g&#x27;,\n",
              "                                                   &#x27;middle_left_infra1&#x27;,\n",
              "                                                   &#x27;middle_left_in...\n",
              "                                                   &#x27;central_pixel_r&#x27;,\n",
              "                                                   &#x27;central_pixel_g&#x27;,\n",
              "                                                   &#x27;central_pixel_infra1&#x27;,\n",
              "                                                   &#x27;central_pixel_infra2&#x27;,\n",
              "                                                   &#x27;middle_right_r&#x27;,\n",
              "                                                   &#x27;middle_right_g&#x27;,\n",
              "                                                   &#x27;middle_right_infra1&#x27;,\n",
              "                                                   &#x27;middle_right_infra2&#x27;,\n",
              "                                                   &#x27;bottom_left_r&#x27;,\n",
              "                                                   &#x27;bottom_left_g&#x27;,\n",
              "                                                   &#x27;bottom_left_infra1&#x27;,\n",
              "                                                   &#x27;bottom_left_infra2&#x27;,\n",
              "                                                   &#x27;bottom_middle_r&#x27;,\n",
              "                                                   &#x27;bottom_middle_g&#x27;, ...])])),\n",
              "                (&#x27;rf&#x27;,\n",
              "                 RandomForestClassifier(max_samples=4000, n_estimators=1000,\n",
              "                                        n_jobs=-1))])</pre></div></div></div><div class=\"sk-serial\"><div class=\"sk-item sk-dashed-wrapped\"><div class=\"sk-label-container\"><div class=\"sk-label sk-toggleable\"><input class=\"sk-toggleable__control sk-hidden--visually\" id=\"a37a08c2-732c-4075-a285-bcb858c9c5b0\" type=\"checkbox\" ><label for=\"a37a08c2-732c-4075-a285-bcb858c9c5b0\" class=\"sk-toggleable__label sk-toggleable__label-arrow\">transform: ColumnTransformer</label><div class=\"sk-toggleable__content\"><pre>ColumnTransformer(transformers=[(&#x27;num&#x27;, MinMaxScaler(),\n",
              "                                 [&#x27;top_left_r&#x27;, &#x27;top_left_g&#x27;, &#x27;top_left_infra1&#x27;,\n",
              "                                  &#x27;top_left_infra2&#x27;, &#x27;top_middle_r&#x27;,\n",
              "                                  &#x27;top_middle_g&#x27;, &#x27;top_middle_infra1&#x27;,\n",
              "                                  &#x27;top_middle_infra2&#x27;, &#x27;top_right_r&#x27;,\n",
              "                                  &#x27;top_right_g&#x27;, &#x27;top_right_infra1&#x27;,\n",
              "                                  &#x27;top_right_infra2&#x27;, &#x27;middle_left_r&#x27;,\n",
              "                                  &#x27;middle_left_g&#x27;, &#x27;middle_left_infra1&#x27;,\n",
              "                                  &#x27;middle_left_infra2&#x27;, &#x27;central_pixel_r&#x27;,\n",
              "                                  &#x27;central_pixel_g&#x27;, &#x27;central_pixel_infra1&#x27;,\n",
              "                                  &#x27;central_pixel_infra2&#x27;, &#x27;middle_right_r&#x27;,\n",
              "                                  &#x27;middle_right_g&#x27;, &#x27;middle_right_infra1&#x27;,\n",
              "                                  &#x27;middle_right_infra2&#x27;, &#x27;bottom_left_r&#x27;,\n",
              "                                  &#x27;bottom_left_g&#x27;, &#x27;bottom_left_infra1&#x27;,\n",
              "                                  &#x27;bottom_left_infra2&#x27;, &#x27;bottom_middle_r&#x27;,\n",
              "                                  &#x27;bottom_middle_g&#x27;, ...])])</pre></div></div></div><div class=\"sk-parallel\"><div class=\"sk-parallel-item\"><div class=\"sk-item\"><div class=\"sk-label-container\"><div class=\"sk-label sk-toggleable\"><input class=\"sk-toggleable__control sk-hidden--visually\" id=\"3c2eea66-cb66-4940-ae9e-d4463eeba7ad\" type=\"checkbox\" ><label for=\"3c2eea66-cb66-4940-ae9e-d4463eeba7ad\" class=\"sk-toggleable__label sk-toggleable__label-arrow\">num</label><div class=\"sk-toggleable__content\"><pre>[&#x27;top_left_r&#x27;, &#x27;top_left_g&#x27;, &#x27;top_left_infra1&#x27;, &#x27;top_left_infra2&#x27;, &#x27;top_middle_r&#x27;, &#x27;top_middle_g&#x27;, &#x27;top_middle_infra1&#x27;, &#x27;top_middle_infra2&#x27;, &#x27;top_right_r&#x27;, &#x27;top_right_g&#x27;, &#x27;top_right_infra1&#x27;, &#x27;top_right_infra2&#x27;, &#x27;middle_left_r&#x27;, &#x27;middle_left_g&#x27;, &#x27;middle_left_infra1&#x27;, &#x27;middle_left_infra2&#x27;, &#x27;central_pixel_r&#x27;, &#x27;central_pixel_g&#x27;, &#x27;central_pixel_infra1&#x27;, &#x27;central_pixel_infra2&#x27;, &#x27;middle_right_r&#x27;, &#x27;middle_right_g&#x27;, &#x27;middle_right_infra1&#x27;, &#x27;middle_right_infra2&#x27;, &#x27;bottom_left_r&#x27;, &#x27;bottom_left_g&#x27;, &#x27;bottom_left_infra1&#x27;, &#x27;bottom_left_infra2&#x27;, &#x27;bottom_middle_r&#x27;, &#x27;bottom_middle_g&#x27;, &#x27;bottom_middle_infra1&#x27;, &#x27;bottom_middle_infra2&#x27;, &#x27;bottom_right_r&#x27;, &#x27;bottom_right_g&#x27;, &#x27;bottom_right_infra1&#x27;, &#x27;bottom_right_infra2&#x27;]</pre></div></div></div><div class=\"sk-serial\"><div class=\"sk-item\"><div class=\"sk-estimator sk-toggleable\"><input class=\"sk-toggleable__control sk-hidden--visually\" id=\"3df8e5df-4a45-45d8-9e4a-1aecac53ac9c\" type=\"checkbox\" ><label for=\"3df8e5df-4a45-45d8-9e4a-1aecac53ac9c\" class=\"sk-toggleable__label sk-toggleable__label-arrow\">MinMaxScaler</label><div class=\"sk-toggleable__content\"><pre>MinMaxScaler()</pre></div></div></div></div></div></div></div></div><div class=\"sk-item\"><div class=\"sk-estimator sk-toggleable\"><input class=\"sk-toggleable__control sk-hidden--visually\" id=\"81b27af1-c8d8-43ec-89fb-e140784cd564\" type=\"checkbox\" ><label for=\"81b27af1-c8d8-43ec-89fb-e140784cd564\" class=\"sk-toggleable__label sk-toggleable__label-arrow\">RandomForestClassifier</label><div class=\"sk-toggleable__content\"><pre>RandomForestClassifier(max_samples=4000, n_estimators=1000, n_jobs=-1)</pre></div></div></div></div></div></div></div>"
            ]
          },
          "metadata": {},
          "execution_count": 98
        }
      ]
    },
    {
      "cell_type": "markdown",
      "source": [
        "#Run the pipeline to predict y values from the test data set and save them in a variable called y_pred.\n"
      ],
      "metadata": {
        "id": "ZrdNkyJFPrad"
      }
    },
    {
      "cell_type": "code",
      "source": [
        "y_pred = random_forest.predict(X_test)"
      ],
      "metadata": {
        "id": "-xInNIuSQ_6o"
      },
      "execution_count": 99,
      "outputs": []
    },
    {
      "cell_type": "markdown",
      "source": [
        "#Use the classification_function to display the precision, recall, and F1 score for each class.\n"
      ],
      "metadata": {
        "id": "DvK4FBSYRG7U"
      }
    },
    {
      "cell_type": "code",
      "source": [
        "print(classification_report(y_pred, y_test))"
      ],
      "metadata": {
        "colab": {
          "base_uri": "https://localhost:8080/"
        },
        "id": "K1brJfw8RIIr",
        "outputId": "6e62c83c-bc24-4d67-bb4b-c58829700650"
      },
      "execution_count": 100,
      "outputs": [
        {
          "output_type": "stream",
          "name": "stdout",
          "text": [
            "              precision    recall  f1-score   support\n",
            "\n",
            "           1       0.99      0.98      0.99       466\n",
            "           2       0.98      0.97      0.98       225\n",
            "           3       0.95      0.89      0.92       424\n",
            "           4       0.64      0.78      0.70       171\n",
            "           5       0.90      0.93      0.91       230\n",
            "           7       0.90      0.87      0.88       484\n",
            "\n",
            "    accuracy                           0.91      2000\n",
            "   macro avg       0.89      0.90      0.90      2000\n",
            "weighted avg       0.92      0.91      0.91      2000\n",
            "\n"
          ]
        }
      ]
    },
    {
      "cell_type": "markdown",
      "source": [
        "#Use the ConfusionMatrixDisplay function (and associated code) to display a heatmap of the confusion matrix.\n"
      ],
      "metadata": {
        "id": "FkhBzBVHSWaG"
      }
    },
    {
      "cell_type": "code",
      "source": [
        "classes = random_forest.named_steps.rf.classes_\n",
        "cm = confusion_matrix(y_test, y_pred, labels=classes)\n",
        "disp = ConfusionMatrixDisplay(confusion_matrix=cm, display_labels=classes)"
      ],
      "metadata": {
        "id": "lsnOfgZpShjo"
      },
      "execution_count": 101,
      "outputs": []
    },
    {
      "cell_type": "code",
      "source": [
        "fig, ax = plt.subplots(figsize=(10,10))\n",
        "disp.plot(ax=ax,cmap='YlOrRd')"
      ],
      "metadata": {
        "colab": {
          "base_uri": "https://localhost:8080/",
          "height": 597
        },
        "id": "F9zdqAZwSXdQ",
        "outputId": "c0b2b951-62fc-4adf-84a7-23c3e458bc8d"
      },
      "execution_count": 102,
      "outputs": [
        {
          "output_type": "execute_result",
          "data": {
            "text/plain": [
              "<sklearn.metrics._plot.confusion_matrix.ConfusionMatrixDisplay at 0x7fe89cc42b90>"
            ]
          },
          "metadata": {},
          "execution_count": 102
        },
        {
          "output_type": "display_data",
          "data": {
            "text/plain": [
              "<Figure size 720x720 with 2 Axes>"
            ],
            "image/png": "[encoded data removed]"
          },
          "metadata": {
            "needs_background": "light"
          }
        }
      ]
    },
    {
      "cell_type": "markdown",
      "source": [
        "#In a Markdown comment, write a conclusion on how suitable you think this model is for predicting the land type.\n"
      ],
      "metadata": {
        "id": "F47kpocHSrdv"
      }
    },
    {
      "cell_type": "markdown",
      "source": [
        "The results from the random forest model appear to be very successful. Looking at the precision, recall, and F1 scores given from this model, I think it would be a very suitable method for predicting land type. This model seems to struggle a bit with the land type '4', having the lowest precision and recall amongst all the data. However, all of the other land types have excellent precision, recall, and F1 scores. Also by looking at the confusion matrix, you can see this model is very accurate because the darkest boxes follow the diagonal line from top left to bottom right. When the predicted values match the true values in the chart, there is a higher success rate in the model (reflecting the recall, precision, and F1 scores)."
      ],
      "metadata": {
        "id": "59G5jaX3Ssgr"
      }
    },
    {
      "cell_type": "markdown",
      "source": [
        "#*Problem 2*"
      ],
      "metadata": {
        "id": "dMIdoWNiSsyG"
      }
    },
    {
      "cell_type": "code",
      "source": [
        "knn = KNeighborsClassifier(n_neighbors=3)\n",
        "lr = LogisticRegression(max_iter=100000)\n",
        "svc = SVC(kernel='rbf')"
      ],
      "metadata": {
        "id": "65kmRjwZSsO-"
      },
      "execution_count": 103,
      "outputs": []
    },
    {
      "cell_type": "code",
      "source": [
        "voting = Pipeline([\n",
        "                     ('transform', col_transform),\n",
        "                     ('voting_ensemble',VotingClassifier(\n",
        "                         estimators=[\n",
        "                                     ('knn',knn),\n",
        "                                     ('lr',lr),\n",
        "                                     ('svc',svc)\n",
        "                                     ], voting='hard'))\n",
        "                     ])"
      ],
      "metadata": {
        "id": "c0k-Dz-RWkx0"
      },
      "execution_count": 104,
      "outputs": []
    },
    {
      "cell_type": "code",
      "source": [
        "voting.fit(X_train,np.ravel(y_train))\n"
      ],
      "metadata": {
        "colab": {
          "base_uri": "https://localhost:8080/",
          "height": 245
        },
        "id": "Vbj39rnDWnZA",
        "outputId": "c24ce72a-f7ce-45b0-aff4-75d3d6d82781"
      },
      "execution_count": 105,
      "outputs": [
        {
          "output_type": "execute_result",
          "data": {
            "text/plain": [
              "Pipeline(steps=[('transform',\n",
              "                 ColumnTransformer(transformers=[('num', MinMaxScaler(),\n",
              "                                                  ['top_left_r', 'top_left_g',\n",
              "                                                   'top_left_infra1',\n",
              "                                                   'top_left_infra2',\n",
              "                                                   'top_middle_r',\n",
              "                                                   'top_middle_g',\n",
              "                                                   'top_middle_infra1',\n",
              "                                                   'top_middle_infra2',\n",
              "                                                   'top_right_r', 'top_right_g',\n",
              "                                                   'top_right_infra1',\n",
              "                                                   'top_right_infra2',\n",
              "                                                   'middle_left_r',\n",
              "                                                   'middle_left_g',\n",
              "                                                   'middle_left_infra1',\n",
              "                                                   'middle_left_in...\n",
              "                                                   'middle_right_r',\n",
              "                                                   'middle_right_g',\n",
              "                                                   'middle_right_infra1',\n",
              "                                                   'middle_right_infra2',\n",
              "                                                   'bottom_left_r',\n",
              "                                                   'bottom_left_g',\n",
              "                                                   'bottom_left_infra1',\n",
              "                                                   'bottom_left_infra2',\n",
              "                                                   'bottom_middle_r',\n",
              "                                                   'bottom_middle_g', ...])])),\n",
              "                ('voting_ensemble',\n",
              "                 VotingClassifier(estimators=[('knn',\n",
              "                                               KNeighborsClassifier(n_neighbors=3)),\n",
              "                                              ('lr',\n",
              "                                               LogisticRegression(max_iter=100000)),\n",
              "                                              ('svc', SVC())]))])"
            ],
            "text/html": [
              "<style>#sk-1942e4a9-8e29-48e1-b040-0d614512e14d {color: black;background-color: white;}#sk-1942e4a9-8e29-48e1-b040-0d614512e14d pre{padding: 0;}#sk-1942e4a9-8e29-48e1-b040-0d614512e14d div.sk-toggleable {background-color: white;}#sk-1942e4a9-8e29-48e1-b040-0d614512e14d label.sk-toggleable__label {cursor: pointer;display: block;width: 100%;margin-bottom: 0;padding: 0.3em;box-sizing: border-box;text-align: center;}#sk-1942e4a9-8e29-48e1-b040-0d614512e14d label.sk-toggleable__label-arrow:before {content: \"▸\";float: left;margin-right: 0.25em;color: #696969;}#sk-1942e4a9-8e29-48e1-b040-0d614512e14d label.sk-toggleable__label-arrow:hover:before {color: black;}#sk-1942e4a9-8e29-48e1-b040-0d614512e14d div.sk-estimator:hover label.sk-toggleable__label-arrow:before {color: black;}#sk-1942e4a9-8e29-48e1-b040-0d614512e14d div.sk-toggleable__content {max-height: 0;max-width: 0;overflow: hidden;text-align: left;background-color: #f0f8ff;}#sk-1942e4a9-8e29-48e1-b040-0d614512e14d div.sk-toggleable__content pre {margin: 0.2em;color: black;border-radius: 0.25em;background-color: #f0f8ff;}#sk-1942e4a9-8e29-48e1-b040-0d614512e14d input.sk-toggleable__control:checked~div.sk-toggleable__content {max-height: 200px;max-width: 100%;overflow: auto;}#sk-1942e4a9-8e29-48e1-b040-0d614512e14d input.sk-toggleable__control:checked~label.sk-toggleable__label-arrow:before {content: \"▾\";}#sk-1942e4a9-8e29-48e1-b040-0d614512e14d div.sk-estimator input.sk-toggleable__control:checked~label.sk-toggleable__label {background-color: #d4ebff;}#sk-1942e4a9-8e29-48e1-b040-0d614512e14d div.sk-label input.sk-toggleable__control:checked~label.sk-toggleable__label {background-color: #d4ebff;}#sk-1942e4a9-8e29-48e1-b040-0d614512e14d input.sk-hidden--visually {border: 0;clip: rect(1px 1px 1px 1px);clip: rect(1px, 1px, 1px, 1px);height: 1px;margin: -1px;overflow: hidden;padding: 0;position: absolute;width: 1px;}#sk-1942e4a9-8e29-48e1-b040-0d614512e14d div.sk-estimator {font-family: monospace;background-color: #f0f8ff;border: 1px dotted black;border-radius: 0.25em;box-sizing: border-box;margin-bottom: 0.5em;}#sk-1942e4a9-8e29-48e1-b040-0d614512e14d div.sk-estimator:hover {background-color: #d4ebff;}#sk-1942e4a9-8e29-48e1-b040-0d614512e14d div.sk-parallel-item::after {content: \"\";width: 100%;border-bottom: 1px solid gray;flex-grow: 1;}#sk-1942e4a9-8e29-48e1-b040-0d614512e14d div.sk-label:hover label.sk-toggleable__label {background-color: #d4ebff;}#sk-1942e4a9-8e29-48e1-b040-0d614512e14d div.sk-serial::before {content: \"\";position: absolute;border-left: 1px solid gray;box-sizing: border-box;top: 2em;bottom: 0;left: 50%;}#sk-1942e4a9-8e29-48e1-b040-0d614512e14d div.sk-serial {display: flex;flex-direction: column;align-items: center;background-color: white;padding-right: 0.2em;padding-left: 0.2em;}#sk-1942e4a9-8e29-48e1-b040-0d614512e14d div.sk-item {z-index: 1;}#sk-1942e4a9-8e29-48e1-b040-0d614512e14d div.sk-parallel {display: flex;align-items: stretch;justify-content: center;background-color: white;}#sk-1942e4a9-8e29-48e1-b040-0d614512e14d div.sk-parallel::before {content: \"\";position: absolute;border-left: 1px solid gray;box-sizing: border-box;top: 2em;bottom: 0;left: 50%;}#sk-1942e4a9-8e29-48e1-b040-0d614512e14d div.sk-parallel-item {display: flex;flex-direction: column;position: relative;background-color: white;}#sk-1942e4a9-8e29-48e1-b040-0d614512e14d div.sk-parallel-item:first-child::after {align-self: flex-end;width: 50%;}#sk-1942e4a9-8e29-48e1-b040-0d614512e14d div.sk-parallel-item:last-child::after {align-self: flex-start;width: 50%;}#sk-1942e4a9-8e29-48e1-b040-0d614512e14d div.sk-parallel-item:only-child::after {width: 0;}#sk-1942e4a9-8e29-48e1-b040-0d614512e14d div.sk-dashed-wrapped {border: 1px dashed gray;margin: 0 0.4em 0.5em 0.4em;box-sizing: border-box;padding-bottom: 0.4em;background-color: white;position: relative;}#sk-1942e4a9-8e29-48e1-b040-0d614512e14d div.sk-label label {font-family: monospace;font-weight: bold;background-color: white;display: inline-block;line-height: 1.2em;}#sk-1942e4a9-8e29-48e1-b040-0d614512e14d div.sk-label-container {position: relative;z-index: 2;text-align: center;}#sk-1942e4a9-8e29-48e1-b040-0d614512e14d div.sk-container {/* jupyter's `normalize.less` sets `[hidden] { display: none; }` but bootstrap.min.css set `[hidden] { display: none !important; }` so we also need the `!important` here to be able to override the default hidden behavior on the sphinx rendered scikit-learn.org. See: https://github.com/scikit-learn/scikit-learn/issues/21755 */display: inline-block !important;position: relative;}#sk-1942e4a9-8e29-48e1-b040-0d614512e14d div.sk-text-repr-fallback {display: none;}</style><div id=\"sk-1942e4a9-8e29-48e1-b040-0d614512e14d\" class=\"sk-top-container\"><div class=\"sk-text-repr-fallback\"><pre>Pipeline(steps=[(&#x27;transform&#x27;,\n",
              "                 ColumnTransformer(transformers=[(&#x27;num&#x27;, MinMaxScaler(),\n",
              "                                                  [&#x27;top_left_r&#x27;, &#x27;top_left_g&#x27;,\n",
              "                                                   &#x27;top_left_infra1&#x27;,\n",
              "                                                   &#x27;top_left_infra2&#x27;,\n",
              "                                                   &#x27;top_middle_r&#x27;,\n",
              "                                                   &#x27;top_middle_g&#x27;,\n",
              "                                                   &#x27;top_middle_infra1&#x27;,\n",
              "                                                   &#x27;top_middle_infra2&#x27;,\n",
              "                                                   &#x27;top_right_r&#x27;, &#x27;top_right_g&#x27;,\n",
              "                                                   &#x27;top_right_infra1&#x27;,\n",
              "                                                   &#x27;top_right_infra2&#x27;,\n",
              "                                                   &#x27;middle_left_r&#x27;,\n",
              "                                                   &#x27;middle_left_g&#x27;,\n",
              "                                                   &#x27;middle_left_infra1&#x27;,\n",
              "                                                   &#x27;middle_left_in...\n",
              "                                                   &#x27;middle_right_r&#x27;,\n",
              "                                                   &#x27;middle_right_g&#x27;,\n",
              "                                                   &#x27;middle_right_infra1&#x27;,\n",
              "                                                   &#x27;middle_right_infra2&#x27;,\n",
              "                                                   &#x27;bottom_left_r&#x27;,\n",
              "                                                   &#x27;bottom_left_g&#x27;,\n",
              "                                                   &#x27;bottom_left_infra1&#x27;,\n",
              "                                                   &#x27;bottom_left_infra2&#x27;,\n",
              "                                                   &#x27;bottom_middle_r&#x27;,\n",
              "                                                   &#x27;bottom_middle_g&#x27;, ...])])),\n",
              "                (&#x27;voting_ensemble&#x27;,\n",
              "                 VotingClassifier(estimators=[(&#x27;knn&#x27;,\n",
              "                                               KNeighborsClassifier(n_neighbors=3)),\n",
              "                                              (&#x27;lr&#x27;,\n",
              "                                               LogisticRegression(max_iter=100000)),\n",
              "                                              (&#x27;svc&#x27;, SVC())]))])</pre><b>Please rerun this cell to show the HTML repr or trust the notebook.</b></div><div class=\"sk-container\" hidden><div class=\"sk-item sk-dashed-wrapped\"><div class=\"sk-label-container\"><div class=\"sk-label sk-toggleable\"><input class=\"sk-toggleable__control sk-hidden--visually\" id=\"b72116a4-2cf7-4b22-8c1c-017b249842c2\" type=\"checkbox\" ><label for=\"b72116a4-2cf7-4b22-8c1c-017b249842c2\" class=\"sk-toggleable__label sk-toggleable__label-arrow\">Pipeline</label><div class=\"sk-toggleable__content\"><pre>Pipeline(steps=[(&#x27;transform&#x27;,\n",
              "                 ColumnTransformer(transformers=[(&#x27;num&#x27;, MinMaxScaler(),\n",
              "                                                  [&#x27;top_left_r&#x27;, &#x27;top_left_g&#x27;,\n",
              "                                                   &#x27;top_left_infra1&#x27;,\n",
              "                                                   &#x27;top_left_infra2&#x27;,\n",
              "                                                   &#x27;top_middle_r&#x27;,\n",
              "                                                   &#x27;top_middle_g&#x27;,\n",
              "                                                   &#x27;top_middle_infra1&#x27;,\n",
              "                                                   &#x27;top_middle_infra2&#x27;,\n",
              "                                                   &#x27;top_right_r&#x27;, &#x27;top_right_g&#x27;,\n",
              "                                                   &#x27;top_right_infra1&#x27;,\n",
              "                                                   &#x27;top_right_infra2&#x27;,\n",
              "                                                   &#x27;middle_left_r&#x27;,\n",
              "                                                   &#x27;middle_left_g&#x27;,\n",
              "                                                   &#x27;middle_left_infra1&#x27;,\n",
              "                                                   &#x27;middle_left_in...\n",
              "                                                   &#x27;middle_right_r&#x27;,\n",
              "                                                   &#x27;middle_right_g&#x27;,\n",
              "                                                   &#x27;middle_right_infra1&#x27;,\n",
              "                                                   &#x27;middle_right_infra2&#x27;,\n",
              "                                                   &#x27;bottom_left_r&#x27;,\n",
              "                                                   &#x27;bottom_left_g&#x27;,\n",
              "                                                   &#x27;bottom_left_infra1&#x27;,\n",
              "                                                   &#x27;bottom_left_infra2&#x27;,\n",
              "                                                   &#x27;bottom_middle_r&#x27;,\n",
              "                                                   &#x27;bottom_middle_g&#x27;, ...])])),\n",
              "                (&#x27;voting_ensemble&#x27;,\n",
              "                 VotingClassifier(estimators=[(&#x27;knn&#x27;,\n",
              "                                               KNeighborsClassifier(n_neighbors=3)),\n",
              "                                              (&#x27;lr&#x27;,\n",
              "                                               LogisticRegression(max_iter=100000)),\n",
              "                                              (&#x27;svc&#x27;, SVC())]))])</pre></div></div></div><div class=\"sk-serial\"><div class=\"sk-item sk-dashed-wrapped\"><div class=\"sk-label-container\"><div class=\"sk-label sk-toggleable\"><input class=\"sk-toggleable__control sk-hidden--visually\" id=\"5ffe0b0e-5a02-4b03-8d7b-ad09d13635d2\" type=\"checkbox\" ><label for=\"5ffe0b0e-5a02-4b03-8d7b-ad09d13635d2\" class=\"sk-toggleable__label sk-toggleable__label-arrow\">transform: ColumnTransformer</label><div class=\"sk-toggleable__content\"><pre>ColumnTransformer(transformers=[(&#x27;num&#x27;, MinMaxScaler(),\n",
              "                                 [&#x27;top_left_r&#x27;, &#x27;top_left_g&#x27;, &#x27;top_left_infra1&#x27;,\n",
              "                                  &#x27;top_left_infra2&#x27;, &#x27;top_middle_r&#x27;,\n",
              "                                  &#x27;top_middle_g&#x27;, &#x27;top_middle_infra1&#x27;,\n",
              "                                  &#x27;top_middle_infra2&#x27;, &#x27;top_right_r&#x27;,\n",
              "                                  &#x27;top_right_g&#x27;, &#x27;top_right_infra1&#x27;,\n",
              "                                  &#x27;top_right_infra2&#x27;, &#x27;middle_left_r&#x27;,\n",
              "                                  &#x27;middle_left_g&#x27;, &#x27;middle_left_infra1&#x27;,\n",
              "                                  &#x27;middle_left_infra2&#x27;, &#x27;central_pixel_r&#x27;,\n",
              "                                  &#x27;central_pixel_g&#x27;, &#x27;central_pixel_infra1&#x27;,\n",
              "                                  &#x27;central_pixel_infra2&#x27;, &#x27;middle_right_r&#x27;,\n",
              "                                  &#x27;middle_right_g&#x27;, &#x27;middle_right_infra1&#x27;,\n",
              "                                  &#x27;middle_right_infra2&#x27;, &#x27;bottom_left_r&#x27;,\n",
              "                                  &#x27;bottom_left_g&#x27;, &#x27;bottom_left_infra1&#x27;,\n",
              "                                  &#x27;bottom_left_infra2&#x27;, &#x27;bottom_middle_r&#x27;,\n",
              "                                  &#x27;bottom_middle_g&#x27;, ...])])</pre></div></div></div><div class=\"sk-parallel\"><div class=\"sk-parallel-item\"><div class=\"sk-item\"><div class=\"sk-label-container\"><div class=\"sk-label sk-toggleable\"><input class=\"sk-toggleable__control sk-hidden--visually\" id=\"b20441df-84f8-4049-939a-67aa5a749d2e\" type=\"checkbox\" ><label for=\"b20441df-84f8-4049-939a-67aa5a749d2e\" class=\"sk-toggleable__label sk-toggleable__label-arrow\">num</label><div class=\"sk-toggleable__content\"><pre>[&#x27;top_left_r&#x27;, &#x27;top_left_g&#x27;, &#x27;top_left_infra1&#x27;, &#x27;top_left_infra2&#x27;, &#x27;top_middle_r&#x27;, &#x27;top_middle_g&#x27;, &#x27;top_middle_infra1&#x27;, &#x27;top_middle_infra2&#x27;, &#x27;top_right_r&#x27;, &#x27;top_right_g&#x27;, &#x27;top_right_infra1&#x27;, &#x27;top_right_infra2&#x27;, &#x27;middle_left_r&#x27;, &#x27;middle_left_g&#x27;, &#x27;middle_left_infra1&#x27;, &#x27;middle_left_infra2&#x27;, &#x27;central_pixel_r&#x27;, &#x27;central_pixel_g&#x27;, &#x27;central_pixel_infra1&#x27;, &#x27;central_pixel_infra2&#x27;, &#x27;middle_right_r&#x27;, &#x27;middle_right_g&#x27;, &#x27;middle_right_infra1&#x27;, &#x27;middle_right_infra2&#x27;, &#x27;bottom_left_r&#x27;, &#x27;bottom_left_g&#x27;, &#x27;bottom_left_infra1&#x27;, &#x27;bottom_left_infra2&#x27;, &#x27;bottom_middle_r&#x27;, &#x27;bottom_middle_g&#x27;, &#x27;bottom_middle_infra1&#x27;, &#x27;bottom_middle_infra2&#x27;, &#x27;bottom_right_r&#x27;, &#x27;bottom_right_g&#x27;, &#x27;bottom_right_infra1&#x27;, &#x27;bottom_right_infra2&#x27;]</pre></div></div></div><div class=\"sk-serial\"><div class=\"sk-item\"><div class=\"sk-estimator sk-toggleable\"><input class=\"sk-toggleable__control sk-hidden--visually\" id=\"562a735d-5d0b-4c07-823a-6a5d752997bd\" type=\"checkbox\" ><label for=\"562a735d-5d0b-4c07-823a-6a5d752997bd\" class=\"sk-toggleable__label sk-toggleable__label-arrow\">MinMaxScaler</label><div class=\"sk-toggleable__content\"><pre>MinMaxScaler()</pre></div></div></div></div></div></div></div></div><div class=\"sk-item sk-dashed-wrapped\"><div class=\"sk-label-container\"><div class=\"sk-label sk-toggleable\"><input class=\"sk-toggleable__control sk-hidden--visually\" id=\"3622ddb9-255b-4e3e-aa29-e415bd8cb4a0\" type=\"checkbox\" ><label for=\"3622ddb9-255b-4e3e-aa29-e415bd8cb4a0\" class=\"sk-toggleable__label sk-toggleable__label-arrow\">voting_ensemble: VotingClassifier</label><div class=\"sk-toggleable__content\"><pre>VotingClassifier(estimators=[(&#x27;knn&#x27;, KNeighborsClassifier(n_neighbors=3)),\n",
              "                             (&#x27;lr&#x27;, LogisticRegression(max_iter=100000)),\n",
              "                             (&#x27;svc&#x27;, SVC())])</pre></div></div></div><div class=\"sk-parallel\"><div class=\"sk-parallel-item\"><div class=\"sk-item\"><div class=\"sk-label-container\"><div class=\"sk-label sk-toggleable\"><label>knn</label></div></div><div class=\"sk-serial\"><div class=\"sk-item\"><div class=\"sk-estimator sk-toggleable\"><input class=\"sk-toggleable__control sk-hidden--visually\" id=\"6184cf93-2a3c-4b9d-82b9-a9b9e6942e9f\" type=\"checkbox\" ><label for=\"6184cf93-2a3c-4b9d-82b9-a9b9e6942e9f\" class=\"sk-toggleable__label sk-toggleable__label-arrow\">KNeighborsClassifier</label><div class=\"sk-toggleable__content\"><pre>KNeighborsClassifier(n_neighbors=3)</pre></div></div></div></div></div></div><div class=\"sk-parallel-item\"><div class=\"sk-item\"><div class=\"sk-label-container\"><div class=\"sk-label sk-toggleable\"><label>lr</label></div></div><div class=\"sk-serial\"><div class=\"sk-item\"><div class=\"sk-estimator sk-toggleable\"><input class=\"sk-toggleable__control sk-hidden--visually\" id=\"22294be9-2fcd-4c85-a48f-974753f4cdeb\" type=\"checkbox\" ><label for=\"22294be9-2fcd-4c85-a48f-974753f4cdeb\" class=\"sk-toggleable__label sk-toggleable__label-arrow\">LogisticRegression</label><div class=\"sk-toggleable__content\"><pre>LogisticRegression(max_iter=100000)</pre></div></div></div></div></div></div><div class=\"sk-parallel-item\"><div class=\"sk-item\"><div class=\"sk-label-container\"><div class=\"sk-label sk-toggleable\"><label>svc</label></div></div><div class=\"sk-serial\"><div class=\"sk-item\"><div class=\"sk-estimator sk-toggleable\"><input class=\"sk-toggleable__control sk-hidden--visually\" id=\"8626579a-81be-4e25-a4b0-dbd38a13648b\" type=\"checkbox\" ><label for=\"8626579a-81be-4e25-a4b0-dbd38a13648b\" class=\"sk-toggleable__label sk-toggleable__label-arrow\">SVC</label><div class=\"sk-toggleable__content\"><pre>SVC()</pre></div></div></div></div></div></div></div></div></div></div></div></div>"
            ]
          },
          "metadata": {},
          "execution_count": 105
        }
      ]
    },
    {
      "cell_type": "code",
      "source": [
        "y_pred = voting.predict(X_test)\n"
      ],
      "metadata": {
        "id": "Ehdnot6mWrQq"
      },
      "execution_count": 106,
      "outputs": []
    },
    {
      "cell_type": "code",
      "source": [
        "print(classification_report(y_pred, y_test))"
      ],
      "metadata": {
        "colab": {
          "base_uri": "https://localhost:8080/"
        },
        "id": "X3UZs4UMWrKJ",
        "outputId": "1157e16d-e234-4b28-b389-f76fd4ef3bc2"
      },
      "execution_count": 107,
      "outputs": [
        {
          "output_type": "stream",
          "name": "stdout",
          "text": [
            "              precision    recall  f1-score   support\n",
            "\n",
            "           1       1.00      0.98      0.99       469\n",
            "           2       0.97      0.97      0.97       223\n",
            "           3       0.97      0.87      0.91       443\n",
            "           4       0.55      0.71      0.62       163\n",
            "           5       0.86      0.91      0.89       223\n",
            "           7       0.86      0.84      0.85       479\n",
            "\n",
            "    accuracy                           0.89      2000\n",
            "   macro avg       0.87      0.88      0.87      2000\n",
            "weighted avg       0.90      0.89      0.90      2000\n",
            "\n"
          ]
        }
      ]
    },
    {
      "cell_type": "code",
      "source": [
        "cm = confusion_matrix(y_test, y_pred)\n",
        "disp = ConfusionMatrixDisplay(confusion_matrix=cm, display_labels=classes)"
      ],
      "metadata": {
        "id": "wvQ1QI0wYUA2"
      },
      "execution_count": 108,
      "outputs": []
    },
    {
      "cell_type": "code",
      "source": [
        "fig, ax = plt.subplots(figsize=(10,10))\n",
        "disp.plot(ax=ax,cmap='YlOrRd')"
      ],
      "metadata": {
        "colab": {
          "base_uri": "https://localhost:8080/",
          "height": 597
        },
        "id": "R07HBaz4YOTO",
        "outputId": "43ada272-0d3e-4dcc-c9f8-c3eb3b9bdb73"
      },
      "execution_count": 109,
      "outputs": [
        {
          "output_type": "execute_result",
          "data": {
            "text/plain": [
              "<sklearn.metrics._plot.confusion_matrix.ConfusionMatrixDisplay at 0x7fe89cc10110>"
            ]
          },
          "metadata": {},
          "execution_count": 109
        },
        {
          "output_type": "display_data",
          "data": {
            "text/plain": [
              "<Figure size 720x720 with 2 Axes>"
            ],
            "image/png": "[encoded data removed]"
          },
          "metadata": {
            "needs_background": "light"
          }
        }
      ]
    },
    {
      "cell_type": "markdown",
      "source": [
        "#In a Markdown comment, write a conclusion on how suitable you think this model is for predicting the land type.\n"
      ],
      "metadata": {
        "id": "KYrAbQTKrEMG"
      }
    },
    {
      "cell_type": "markdown",
      "source": [
        "The voting model had very similar results as the random forest model. This model would be suitable to predict land type, and would do so with pretty good accuracy. Judging by the precision, recall, and F1 scores, this model is (generally speaking) very accurate. Similarly to the random forest model, this model does tend to struggle more with the land type '4'. This land type has the lowest precision and recall scores. Overall, I think this model would be very useful and I would be comfortable using it to predict land type."
      ],
      "metadata": {
        "id": "nBSkW4DurG-x"
      }
    },
    {
      "cell_type": "markdown",
      "source": [
        "#*Problem 3*"
      ],
      "metadata": {
        "id": "PQ7kfpEGjivY"
      }
    },
    {
      "cell_type": "markdown",
      "source": [
        ""
      ],
      "metadata": {
        "id": "TbF85peRjluz"
      }
    },
    {
      "cell_type": "code",
      "source": [
        "df = pd.read_csv('/content/gdrive/MyDrive/CS430/banknote_authentication.csv')"
      ],
      "metadata": {
        "id": "uUf_70KJjypG"
      },
      "execution_count": 110,
      "outputs": []
    },
    {
      "cell_type": "code",
      "source": [
        "X = df[['variance','skewness', 'curtosis', 'entropy']]\n",
        "X"
      ],
      "metadata": {
        "colab": {
          "base_uri": "https://localhost:8080/",
          "height": 419
        },
        "id": "bSJ5HwDKkWkE",
        "outputId": "cc076e67-58e2-41dc-ed7f-caf295ce16df"
      },
      "execution_count": 111,
      "outputs": [
        {
          "output_type": "execute_result",
          "data": {
            "text/plain": [
              "      variance  skewness  curtosis  entropy\n",
              "0      3.62160   8.66610   -2.8073 -0.44699\n",
              "1      4.54590   8.16740   -2.4586 -1.46210\n",
              "2      3.86600  -2.63830    1.9242  0.10645\n",
              "3      3.45660   9.52280   -4.0112 -3.59440\n",
              "4      0.32924  -4.45520    4.5718 -0.98880\n",
              "...        ...       ...       ...      ...\n",
              "1367   0.40614   1.34920   -1.4501 -0.55949\n",
              "1368  -1.38870  -4.87730    6.4774  0.34179\n",
              "1369  -3.75030 -13.45860   17.5932 -2.77710\n",
              "1370  -3.56370  -8.38270   12.3930 -1.28230\n",
              "1371  -2.54190  -0.65804    2.6842  1.19520\n",
              "\n",
              "[1372 rows x 4 columns]"
            ],
            "text/html": [
              "\n",
              "  <div id=\"df-9a6efde9-dece-4974-8995-ad960068c153\">\n",
              "    <div class=\"colab-df-container\">\n",
              "      <div>\n",
              "<style scoped>\n",
              "    .dataframe tbody tr th:only-of-type {\n",
              "        vertical-align: middle;\n",
              "    }\n",
              "\n",
              "    .dataframe tbody tr th {\n",
              "        vertical-align: top;\n",
              "    }\n",
              "\n",
              "    .dataframe thead th {\n",
              "        text-align: right;\n",
              "    }\n",
              "</style>\n",
              "<table border=\"1\" class=\"dataframe\">\n",
              "  <thead>\n",
              "    <tr style=\"text-align: right;\">\n",
              "      <th></th>\n",
              "      <th>variance</th>\n",
              "      <th>skewness</th>\n",
              "      <th>curtosis</th>\n",
              "      <th>entropy</th>\n",
              "    </tr>\n",
              "  </thead>\n",
              "  <tbody>\n",
              "    <tr>\n",
              "      <th>0</th>\n",
              "      <td>3.62160</td>\n",
              "      <td>8.66610</td>\n",
              "      <td>-2.8073</td>\n",
              "      <td>-0.44699</td>\n",
              "    </tr>\n",
              "    <tr>\n",
              "      <th>1</th>\n",
              "      <td>4.54590</td>\n",
              "      <td>8.16740</td>\n",
              "      <td>-2.4586</td>\n",
              "      <td>-1.46210</td>\n",
              "    </tr>\n",
              "    <tr>\n",
              "      <th>2</th>\n",
              "      <td>3.86600</td>\n",
              "      <td>-2.63830</td>\n",
              "      <td>1.9242</td>\n",
              "      <td>0.10645</td>\n",
              "    </tr>\n",
              "    <tr>\n",
              "      <th>3</th>\n",
              "      <td>3.45660</td>\n",
              "      <td>9.52280</td>\n",
              "      <td>-4.0112</td>\n",
              "      <td>-3.59440</td>\n",
              "    </tr>\n",
              "    <tr>\n",
              "      <th>4</th>\n",
              "      <td>0.32924</td>\n",
              "      <td>-4.45520</td>\n",
              "      <td>4.5718</td>\n",
              "      <td>-0.98880</td>\n",
              "    </tr>\n",
              "    <tr>\n",
              "      <th>...</th>\n",
              "      <td>...</td>\n",
              "      <td>...</td>\n",
              "      <td>...</td>\n",
              "      <td>...</td>\n",
              "    </tr>\n",
              "    <tr>\n",
              "      <th>1367</th>\n",
              "      <td>0.40614</td>\n",
              "      <td>1.34920</td>\n",
              "      <td>-1.4501</td>\n",
              "      <td>-0.55949</td>\n",
              "    </tr>\n",
              "    <tr>\n",
              "      <th>1368</th>\n",
              "      <td>-1.38870</td>\n",
              "      <td>-4.87730</td>\n",
              "      <td>6.4774</td>\n",
              "      <td>0.34179</td>\n",
              "    </tr>\n",
              "    <tr>\n",
              "      <th>1369</th>\n",
              "      <td>-3.75030</td>\n",
              "      <td>-13.45860</td>\n",
              "      <td>17.5932</td>\n",
              "      <td>-2.77710</td>\n",
              "    </tr>\n",
              "    <tr>\n",
              "      <th>1370</th>\n",
              "      <td>-3.56370</td>\n",
              "      <td>-8.38270</td>\n",
              "      <td>12.3930</td>\n",
              "      <td>-1.28230</td>\n",
              "    </tr>\n",
              "    <tr>\n",
              "      <th>1371</th>\n",
              "      <td>-2.54190</td>\n",
              "      <td>-0.65804</td>\n",
              "      <td>2.6842</td>\n",
              "      <td>1.19520</td>\n",
              "    </tr>\n",
              "  </tbody>\n",
              "</table>\n",
              "<p>1372 rows × 4 columns</p>\n",
              "</div>\n",
              "      <button class=\"colab-df-convert\" onclick=\"convertToInteractive('df-9a6efde9-dece-4974-8995-ad960068c153')\"\n",
              "              title=\"Convert this dataframe to an interactive table.\"\n",
              "              style=\"display:none;\">\n",
              "        \n",
              "  <svg xmlns=\"http://www.w3.org/2000/svg\" height=\"24px\"viewBox=\"0 0 24 24\"\n",
              "       width=\"24px\">\n",
              "    <path d=\"M0 0h24v24H0V0z\" fill=\"none\"/>\n",
              "    <path d=\"M18.56 5.44l.94 2.06.94-2.06 2.06-.94-2.06-.94-.94-2.06-.94 2.06-2.06.94zm-11 1L8.5 8.5l.94-2.06 2.06-.94-2.06-.94L8.5 2.5l-.94 2.06-2.06.94zm10 10l.94 2.06.94-2.06 2.06-.94-2.06-.94-.94-2.06-.94 2.06-2.06.94z\"/><path d=\"M17.41 7.96l-1.37-1.37c-.4-.4-.92-.59-1.43-.59-.52 0-1.04.2-1.43.59L10.3 9.45l-7.72 7.72c-.78.78-.78 2.05 0 2.83L4 21.41c.39.39.9.59 1.41.59.51 0 1.02-.2 1.41-.59l7.78-7.78 2.81-2.81c.8-.78.8-2.07 0-2.86zM5.41 20L4 18.59l7.72-7.72 1.47 1.35L5.41 20z\"/>\n",
              "  </svg>\n",
              "      </button>\n",
              "      \n",
              "  <style>\n",
              "    .colab-df-container {\n",
              "      display:flex;\n",
              "      flex-wrap:wrap;\n",
              "      gap: 12px;\n",
              "    }\n",
              "\n",
              "    .colab-df-convert {\n",
              "      background-color: #E8F0FE;\n",
              "      border: none;\n",
              "      border-radius: 50%;\n",
              "      cursor: pointer;\n",
              "      display: none;\n",
              "      fill: #1967D2;\n",
              "      height: 32px;\n",
              "      padding: 0 0 0 0;\n",
              "      width: 32px;\n",
              "    }\n",
              "\n",
              "    .colab-df-convert:hover {\n",
              "      background-color: #E2EBFA;\n",
              "      box-shadow: 0px 1px 2px rgba(60, 64, 67, 0.3), 0px 1px 3px 1px rgba(60, 64, 67, 0.15);\n",
              "      fill: #174EA6;\n",
              "    }\n",
              "\n",
              "    [theme=dark] .colab-df-convert {\n",
              "      background-color: #3B4455;\n",
              "      fill: #D2E3FC;\n",
              "    }\n",
              "\n",
              "    [theme=dark] .colab-df-convert:hover {\n",
              "      background-color: #434B5C;\n",
              "      box-shadow: 0px 1px 3px 1px rgba(0, 0, 0, 0.15);\n",
              "      filter: drop-shadow(0px 1px 2px rgba(0, 0, 0, 0.3));\n",
              "      fill: #FFFFFF;\n",
              "    }\n",
              "  </style>\n",
              "\n",
              "      <script>\n",
              "        const buttonEl =\n",
              "          document.querySelector('#df-9a6efde9-dece-4974-8995-ad960068c153 button.colab-df-convert');\n",
              "        buttonEl.style.display =\n",
              "          google.colab.kernel.accessAllowed ? 'block' : 'none';\n",
              "\n",
              "        async function convertToInteractive(key) {\n",
              "          const element = document.querySelector('#df-9a6efde9-dece-4974-8995-ad960068c153');\n",
              "          const dataTable =\n",
              "            await google.colab.kernel.invokeFunction('convertToInteractive',\n",
              "                                                     [key], {});\n",
              "          if (!dataTable) return;\n",
              "\n",
              "          const docLinkHtml = 'Like what you see? Visit the ' +\n",
              "            '<a target=\"_blank\" href=https://colab.research.google.com/notebooks/data_table.ipynb>data table notebook</a>'\n",
              "            + ' to learn more about interactive tables.';\n",
              "          element.innerHTML = '';\n",
              "          dataTable['output_type'] = 'display_data';\n",
              "          await google.colab.output.renderOutput(dataTable, element);\n",
              "          const docLink = document.createElement('div');\n",
              "          docLink.innerHTML = docLinkHtml;\n",
              "          element.appendChild(docLink);\n",
              "        }\n",
              "      </script>\n",
              "    </div>\n",
              "  </div>\n",
              "  "
            ]
          },
          "metadata": {},
          "execution_count": 111
        }
      ]
    },
    {
      "cell_type": "code",
      "source": [
        "y = df['forgery']\n",
        "y"
      ],
      "metadata": {
        "colab": {
          "base_uri": "https://localhost:8080/"
        },
        "id": "WfPOdYmmkYWY",
        "outputId": "7fa37f59-7b8a-44bd-8677-a04095cf4a37"
      },
      "execution_count": 112,
      "outputs": [
        {
          "output_type": "execute_result",
          "data": {
            "text/plain": [
              "0       0\n",
              "1       0\n",
              "2       0\n",
              "3       0\n",
              "4       0\n",
              "       ..\n",
              "1367    1\n",
              "1368    1\n",
              "1369    1\n",
              "1370    1\n",
              "1371    1\n",
              "Name: forgery, Length: 1372, dtype: int64"
            ]
          },
          "metadata": {},
          "execution_count": 112
        }
      ]
    },
    {
      "cell_type": "code",
      "source": [
        "X_train, X_test, y_train, y_test = train_test_split(X,y, test_size=.20, random_state=7)"
      ],
      "metadata": {
        "id": "sdJFfN24kDj6"
      },
      "execution_count": 113,
      "outputs": []
    },
    {
      "cell_type": "code",
      "source": [
        "num_attributes = ['variance', 'skewness', 'curtosis', 'entropy']\n",
        "col_transform = ColumnTransformer(transformers=[\n",
        "                               ('num',MinMaxScaler(),num_attributes),]\n",
        "                  )"
      ],
      "metadata": {
        "id": "E0SCF-f6kjiR"
      },
      "execution_count": 114,
      "outputs": []
    },
    {
      "cell_type": "code",
      "source": [
        "random_forest = Pipeline([\n",
        "                     ('transform', col_transform),\n",
        "                     ('rf',RandomForestClassifier(n_estimators=1000, max_samples=1000, bootstrap=True, n_jobs=-1))\n",
        "                     ])"
      ],
      "metadata": {
        "id": "_Sp7WVNkkzGY"
      },
      "execution_count": 115,
      "outputs": []
    },
    {
      "cell_type": "code",
      "source": [
        "random_forest.fit(X_train,np.ravel(y_train))\n"
      ],
      "metadata": {
        "colab": {
          "base_uri": "https://localhost:8080/",
          "height": 188
        },
        "id": "xo2xhbtJk5u2",
        "outputId": "0b39160f-5043-4a3c-dade-4ca587607424"
      },
      "execution_count": 116,
      "outputs": [
        {
          "output_type": "execute_result",
          "data": {
            "text/plain": [
              "Pipeline(steps=[('transform',\n",
              "                 ColumnTransformer(transformers=[('num', MinMaxScaler(),\n",
              "                                                  ['variance', 'skewness',\n",
              "                                                   'curtosis', 'entropy'])])),\n",
              "                ('rf',\n",
              "                 RandomForestClassifier(max_samples=1000, n_estimators=1000,\n",
              "                                        n_jobs=-1))])"
            ],
            "text/html": [
              "<style>#sk-759afc5e-54f2-438d-9d6b-d65135807907 {color: black;background-color: white;}#sk-759afc5e-54f2-438d-9d6b-d65135807907 pre{padding: 0;}#sk-759afc5e-54f2-438d-9d6b-d65135807907 div.sk-toggleable {background-color: white;}#sk-759afc5e-54f2-438d-9d6b-d65135807907 label.sk-toggleable__label {cursor: pointer;display: block;width: 100%;margin-bottom: 0;padding: 0.3em;box-sizing: border-box;text-align: center;}#sk-759afc5e-54f2-438d-9d6b-d65135807907 label.sk-toggleable__label-arrow:before {content: \"▸\";float: left;margin-right: 0.25em;color: #696969;}#sk-759afc5e-54f2-438d-9d6b-d65135807907 label.sk-toggleable__label-arrow:hover:before {color: black;}#sk-759afc5e-54f2-438d-9d6b-d65135807907 div.sk-estimator:hover label.sk-toggleable__label-arrow:before {color: black;}#sk-759afc5e-54f2-438d-9d6b-d65135807907 div.sk-toggleable__content {max-height: 0;max-width: 0;overflow: hidden;text-align: left;background-color: #f0f8ff;}#sk-759afc5e-54f2-438d-9d6b-d65135807907 div.sk-toggleable__content pre {margin: 0.2em;color: black;border-radius: 0.25em;background-color: #f0f8ff;}#sk-759afc5e-54f2-438d-9d6b-d65135807907 input.sk-toggleable__control:checked~div.sk-toggleable__content {max-height: 200px;max-width: 100%;overflow: auto;}#sk-759afc5e-54f2-438d-9d6b-d65135807907 input.sk-toggleable__control:checked~label.sk-toggleable__label-arrow:before {content: \"▾\";}#sk-759afc5e-54f2-438d-9d6b-d65135807907 div.sk-estimator input.sk-toggleable__control:checked~label.sk-toggleable__label {background-color: #d4ebff;}#sk-759afc5e-54f2-438d-9d6b-d65135807907 div.sk-label input.sk-toggleable__control:checked~label.sk-toggleable__label {background-color: #d4ebff;}#sk-759afc5e-54f2-438d-9d6b-d65135807907 input.sk-hidden--visually {border: 0;clip: rect(1px 1px 1px 1px);clip: rect(1px, 1px, 1px, 1px);height: 1px;margin: -1px;overflow: hidden;padding: 0;position: absolute;width: 1px;}#sk-759afc5e-54f2-438d-9d6b-d65135807907 div.sk-estimator {font-family: monospace;background-color: #f0f8ff;border: 1px dotted black;border-radius: 0.25em;box-sizing: border-box;margin-bottom: 0.5em;}#sk-759afc5e-54f2-438d-9d6b-d65135807907 div.sk-estimator:hover {background-color: #d4ebff;}#sk-759afc5e-54f2-438d-9d6b-d65135807907 div.sk-parallel-item::after {content: \"\";width: 100%;border-bottom: 1px solid gray;flex-grow: 1;}#sk-759afc5e-54f2-438d-9d6b-d65135807907 div.sk-label:hover label.sk-toggleable__label {background-color: #d4ebff;}#sk-759afc5e-54f2-438d-9d6b-d65135807907 div.sk-serial::before {content: \"\";position: absolute;border-left: 1px solid gray;box-sizing: border-box;top: 2em;bottom: 0;left: 50%;}#sk-759afc5e-54f2-438d-9d6b-d65135807907 div.sk-serial {display: flex;flex-direction: column;align-items: center;background-color: white;padding-right: 0.2em;padding-left: 0.2em;}#sk-759afc5e-54f2-438d-9d6b-d65135807907 div.sk-item {z-index: 1;}#sk-759afc5e-54f2-438d-9d6b-d65135807907 div.sk-parallel {display: flex;align-items: stretch;justify-content: center;background-color: white;}#sk-759afc5e-54f2-438d-9d6b-d65135807907 div.sk-parallel::before {content: \"\";position: absolute;border-left: 1px solid gray;box-sizing: border-box;top: 2em;bottom: 0;left: 50%;}#sk-759afc5e-54f2-438d-9d6b-d65135807907 div.sk-parallel-item {display: flex;flex-direction: column;position: relative;background-color: white;}#sk-759afc5e-54f2-438d-9d6b-d65135807907 div.sk-parallel-item:first-child::after {align-self: flex-end;width: 50%;}#sk-759afc5e-54f2-438d-9d6b-d65135807907 div.sk-parallel-item:last-child::after {align-self: flex-start;width: 50%;}#sk-759afc5e-54f2-438d-9d6b-d65135807907 div.sk-parallel-item:only-child::after {width: 0;}#sk-759afc5e-54f2-438d-9d6b-d65135807907 div.sk-dashed-wrapped {border: 1px dashed gray;margin: 0 0.4em 0.5em 0.4em;box-sizing: border-box;padding-bottom: 0.4em;background-color: white;position: relative;}#sk-759afc5e-54f2-438d-9d6b-d65135807907 div.sk-label label {font-family: monospace;font-weight: bold;background-color: white;display: inline-block;line-height: 1.2em;}#sk-759afc5e-54f2-438d-9d6b-d65135807907 div.sk-label-container {position: relative;z-index: 2;text-align: center;}#sk-759afc5e-54f2-438d-9d6b-d65135807907 div.sk-container {/* jupyter's `normalize.less` sets `[hidden] { display: none; }` but bootstrap.min.css set `[hidden] { display: none !important; }` so we also need the `!important` here to be able to override the default hidden behavior on the sphinx rendered scikit-learn.org. See: https://github.com/scikit-learn/scikit-learn/issues/21755 */display: inline-block !important;position: relative;}#sk-759afc5e-54f2-438d-9d6b-d65135807907 div.sk-text-repr-fallback {display: none;}</style><div id=\"sk-759afc5e-54f2-438d-9d6b-d65135807907\" class=\"sk-top-container\"><div class=\"sk-text-repr-fallback\"><pre>Pipeline(steps=[(&#x27;transform&#x27;,\n",
              "                 ColumnTransformer(transformers=[(&#x27;num&#x27;, MinMaxScaler(),\n",
              "                                                  [&#x27;variance&#x27;, &#x27;skewness&#x27;,\n",
              "                                                   &#x27;curtosis&#x27;, &#x27;entropy&#x27;])])),\n",
              "                (&#x27;rf&#x27;,\n",
              "                 RandomForestClassifier(max_samples=1000, n_estimators=1000,\n",
              "                                        n_jobs=-1))])</pre><b>Please rerun this cell to show the HTML repr or trust the notebook.</b></div><div class=\"sk-container\" hidden><div class=\"sk-item sk-dashed-wrapped\"><div class=\"sk-label-container\"><div class=\"sk-label sk-toggleable\"><input class=\"sk-toggleable__control sk-hidden--visually\" id=\"273101ac-8724-4ec5-bef2-653987e96096\" type=\"checkbox\" ><label for=\"273101ac-8724-4ec5-bef2-653987e96096\" class=\"sk-toggleable__label sk-toggleable__label-arrow\">Pipeline</label><div class=\"sk-toggleable__content\"><pre>Pipeline(steps=[(&#x27;transform&#x27;,\n",
              "                 ColumnTransformer(transformers=[(&#x27;num&#x27;, MinMaxScaler(),\n",
              "                                                  [&#x27;variance&#x27;, &#x27;skewness&#x27;,\n",
              "                                                   &#x27;curtosis&#x27;, &#x27;entropy&#x27;])])),\n",
              "                (&#x27;rf&#x27;,\n",
              "                 RandomForestClassifier(max_samples=1000, n_estimators=1000,\n",
              "                                        n_jobs=-1))])</pre></div></div></div><div class=\"sk-serial\"><div class=\"sk-item sk-dashed-wrapped\"><div class=\"sk-label-container\"><div class=\"sk-label sk-toggleable\"><input class=\"sk-toggleable__control sk-hidden--visually\" id=\"1032ede7-f519-4559-bbc6-6195223ff396\" type=\"checkbox\" ><label for=\"1032ede7-f519-4559-bbc6-6195223ff396\" class=\"sk-toggleable__label sk-toggleable__label-arrow\">transform: ColumnTransformer</label><div class=\"sk-toggleable__content\"><pre>ColumnTransformer(transformers=[(&#x27;num&#x27;, MinMaxScaler(),\n",
              "                                 [&#x27;variance&#x27;, &#x27;skewness&#x27;, &#x27;curtosis&#x27;,\n",
              "                                  &#x27;entropy&#x27;])])</pre></div></div></div><div class=\"sk-parallel\"><div class=\"sk-parallel-item\"><div class=\"sk-item\"><div class=\"sk-label-container\"><div class=\"sk-label sk-toggleable\"><input class=\"sk-toggleable__control sk-hidden--visually\" id=\"7a90999b-f2f5-4584-ba25-146f78ef8fe3\" type=\"checkbox\" ><label for=\"7a90999b-f2f5-4584-ba25-146f78ef8fe3\" class=\"sk-toggleable__label sk-toggleable__label-arrow\">num</label><div class=\"sk-toggleable__content\"><pre>[&#x27;variance&#x27;, &#x27;skewness&#x27;, &#x27;curtosis&#x27;, &#x27;entropy&#x27;]</pre></div></div></div><div class=\"sk-serial\"><div class=\"sk-item\"><div class=\"sk-estimator sk-toggleable\"><input class=\"sk-toggleable__control sk-hidden--visually\" id=\"9d23b484-5ee2-41fb-b03e-683581983bcb\" type=\"checkbox\" ><label for=\"9d23b484-5ee2-41fb-b03e-683581983bcb\" class=\"sk-toggleable__label sk-toggleable__label-arrow\">MinMaxScaler</label><div class=\"sk-toggleable__content\"><pre>MinMaxScaler()</pre></div></div></div></div></div></div></div></div><div class=\"sk-item\"><div class=\"sk-estimator sk-toggleable\"><input class=\"sk-toggleable__control sk-hidden--visually\" id=\"5f5e5b26-11e8-4389-8742-13d7bdbc3570\" type=\"checkbox\" ><label for=\"5f5e5b26-11e8-4389-8742-13d7bdbc3570\" class=\"sk-toggleable__label sk-toggleable__label-arrow\">RandomForestClassifier</label><div class=\"sk-toggleable__content\"><pre>RandomForestClassifier(max_samples=1000, n_estimators=1000, n_jobs=-1)</pre></div></div></div></div></div></div></div>"
            ]
          },
          "metadata": {},
          "execution_count": 116
        }
      ]
    },
    {
      "cell_type": "code",
      "source": [
        "y_pred = random_forest.predict(X_test)"
      ],
      "metadata": {
        "id": "9QvL2puslEqF"
      },
      "execution_count": 117,
      "outputs": []
    },
    {
      "cell_type": "code",
      "source": [
        "print(classification_report(y_pred, y_test))"
      ],
      "metadata": {
        "colab": {
          "base_uri": "https://localhost:8080/"
        },
        "id": "SZG6ZEqTlIrY",
        "outputId": "c2278fb9-6d07-4013-da12-c40e7d31ae9d"
      },
      "execution_count": 118,
      "outputs": [
        {
          "output_type": "stream",
          "name": "stdout",
          "text": [
            "              precision    recall  f1-score   support\n",
            "\n",
            "           0       1.00      0.99      1.00       159\n",
            "           1       0.99      1.00      1.00       116\n",
            "\n",
            "    accuracy                           1.00       275\n",
            "   macro avg       1.00      1.00      1.00       275\n",
            "weighted avg       1.00      1.00      1.00       275\n",
            "\n"
          ]
        }
      ]
    },
    {
      "cell_type": "code",
      "source": [
        "cm1 = confusion_matrix(y_test, y_pred)\n",
        "disp1 = ConfusionMatrixDisplay(confusion_matrix=cm1, display_labels=classes)\n",
        "fig, ax = plt.subplots(figsize=(10,10))\n",
        "disp1.plot(ax=ax,cmap='YlOrRd')"
      ],
      "metadata": {
        "colab": {
          "base_uri": "https://localhost:8080/",
          "height": 597
        },
        "id": "wUDmvCAOlPRx",
        "outputId": "ee56f974-0f92-4fa6-db33-98fec3aac97e"
      },
      "execution_count": 119,
      "outputs": [
        {
          "output_type": "execute_result",
          "data": {
            "text/plain": [
              "<sklearn.metrics._plot.confusion_matrix.ConfusionMatrixDisplay at 0x7fe89bcdaf90>"
            ]
          },
          "metadata": {},
          "execution_count": 119
        },
        {
          "output_type": "display_data",
          "data": {
            "text/plain": [
              "<Figure size 720x720 with 2 Axes>"
            ],
            "image/png": "[encoded data removed]"
          },
          "metadata": {
            "needs_background": "light"
          }
        }
      ]
    },
    {
      "cell_type": "markdown",
      "source": [
        "#In a Markdown comment, write a conclusion on how suitable you think this model is for predicting forgery.\n"
      ],
      "metadata": {
        "id": "gWBaqZi9rubA"
      }
    },
    {
      "cell_type": "markdown",
      "source": [
        "The random forest model is almost perfect for predicting forgery among bank notes. The precision, recall, and F1 scores are almost all a perfect 1. This shows that the model is excellent at accurately predicting whether or not a bank note was forged. I would feel very comfortable using this model for this prediction."
      ],
      "metadata": {
        "id": "NYPGLkRqsiQP"
      }
    }
  ]
}